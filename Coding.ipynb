{
  "nbformat": 4,
  "nbformat_minor": 0,
  "metadata": {
    "colab": {
      "provenance": [],
      "include_colab_link": true
    },
    "kernelspec": {
      "name": "python3",
      "display_name": "Python 3"
    },
    "language_info": {
      "name": "python"
    }
  },
  "cells": [
    {
      "cell_type": "markdown",
      "metadata": {
        "id": "view-in-github",
        "colab_type": "text"
      },
      "source": [
        "<a href=\"https://colab.research.google.com/github/yogesh1199/Pandas/blob/master/Coding.ipynb\" target=\"_parent\"><img src=\"https://colab.research.google.com/assets/colab-badge.svg\" alt=\"Open In Colab\"/></a>"
      ]
    },
    {
      "cell_type": "markdown",
      "source": [
        "## 🎉 Woohoo! It's time for another assignment!\n",
        "\n",
        "Are you ready to put your social coding skills to test? 💪📊🐍\n",
        "\n",
        "Get ready to dive deep into Python's social coding techniques. You'll be a pro at dealing with github, version control and collaborating with others in no time! 🤓👨‍💻🔍\n",
        "\n",
        "So buckle up and let's get started! Good luck! 🍀🚀"
      ],
      "metadata": {
        "id": "ScRubaP6i3y9"
      }
    },
    {
      "cell_type": "markdown",
      "source": [
        "## **Activity 1:**"
      ],
      "metadata": {
        "id": "pZpUPo_0JBk8"
      }
    },
    {
      "cell_type": "markdown",
      "source": [
        "### **Building a Fibonacci Sequence Generator:**\n",
        "\n",
        "You have been tasked with building a program that generates a Fibonacci sequence using conditional looping in Python. You will be working with a team and will be using GitHub to collaborate and share your code.\n",
        "\n",
        "Here are the steps you should follow:\n",
        "\n",
        "1. Create a new repository on GitHub and add your team members as collaborators.\n",
        "2. Clone the repository to your local machine.\n",
        "3. Create a new branch for your feature.\n",
        "4. Write the code to generate the Fibonacci sequence. Your code should prompt the user for a number and generate the sequence up to that number.\n",
        "5. Test your code to ensure it works correctly.\n",
        "6. Push your changes to the remote repository.\n",
        "7. Create a pull request for your changes.\n",
        "8. Review and merge the pull request."
      ],
      "metadata": {
        "id": "pxqs2m6EJEnC"
      }
    },
    {
      "cell_type": "markdown",
      "source": [
        "![github (1).png](data:image/png;base64,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)"
      ],
      "metadata": {
        "id": "7KlmCY8bjbqT"
      }
    },
    {
      "cell_type": "code",
      "source": [
        "# Write your code here\n",
        "a = 1\n",
        "b = 1  # Initialize b to 1 to start the Fibonacci sequence correctly\n",
        "\n",
        "\n",
        "n = int(input(\"Enter the number of Fibonacci numbers you want to generate:\"))\n",
        "print(a)\n",
        "print(b)\n",
        "for i in range(2, n):  # Start from 2 to generate n Fibonacci numbers\n",
        "    c = a + b\n",
        "    print(c)\n",
        "    a = b\n",
        "    b = c\n",
        "\n"
      ],
      "metadata": {
        "id": "RCMsVLwhjeBv",
        "colab": {
          "base_uri": "https://localhost:8080/"
        },
        "outputId": "31055b0c-b8dd-4a91-986a-90a952199d52"
      },
      "execution_count": 3,
      "outputs": [
        {
          "output_type": "stream",
          "name": "stdout",
          "text": [
            "Enter the number of Fibonacci numbers you want to generate:8\n",
            "1\n",
            "1\n",
            "2\n",
            "3\n",
            "5\n",
            "8\n",
            "13\n",
            "21\n"
          ]
        }
      ]
    },
    {
      "cell_type": "markdown",
      "source": [
        "## **Activity 2:**"
      ],
      "metadata": {
        "id": "Dt1uzaxBgTwW"
      }
    },
    {
      "cell_type": "markdown",
      "source": [
        "### **Temperature Conversion:**\n",
        "\n",
        "You have been assigned to work on a project to create a program that converts temperatures between Celsius and Fahrenheit using Python. You will be working with a team and will be using GitHub to collaborate and share your code.\n",
        "\n",
        "Here are the steps you should follow:\n",
        "\n",
        "1. Create a new repository on GitHub and add your team members as collaborators.\n",
        "2. Clone the repository to your local machine.\n",
        "3. Create a new branch for your feature.\n",
        "4. Write the code to implement the temperature conversion feature. Your code should prompt the user for a temperature and a temperature scale (Celsius or Fahrenheit) and convert the temperature to the other scale.\n",
        "5. Test your code to ensure it works correctly.\n",
        "6. Push your changes to the remote repository.\n",
        "7. Create a pull request for your changes.\n",
        "8. Review and merge the pull request."
      ],
      "metadata": {
        "id": "59rTQ9mQgxXt"
      }
    },
    {
      "cell_type": "markdown",
      "source": [
        "![celsius.png](data:image/png;base64,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)"
      ],
      "metadata": {
        "id": "wYXRjCkajrN2"
      }
    },
    {
      "cell_type": "code",
      "source": [
        "# Write your code here\n",
        "def celsius_to_fahrenheit(celsius):\n",
        "    fahrenheit = (celsius * 9/5) + 32\n",
        "    return fahrenheit\n",
        "\n",
        "def fahrenheit_to_celsius(fahrenheit):\n",
        "    celsius = (fahrenheit - 32) * 5/9\n",
        "    return celsius\n",
        "\n",
        "print(\"Temperature Conversion Program\")\n",
        "print(\"1. Celsius to Fahrenheit\")\n",
        "print(\"2. Fahrenheit to Celsius\")\n",
        "\n",
        "choice = int(input(\"Enter your choice (1 or 2): \"))\n",
        "\n",
        "if choice == 1:\n",
        "    celsius = float(input(\"Enter temperature in Celsius: \"))\n",
        "    fahrenheit = celsius_to_fahrenheit(celsius)\n",
        "    print(f\"{celsius}°C is equal to {fahrenheit:.2f}°F\")\n",
        "elif choice == 2:\n",
        "    fahrenheit = float(input(\"Enter temperature in Fahrenheit: \"))\n",
        "    celsius = fahrenheit_to_celsius(fahrenheit)\n",
        "    print(f\"{fahrenheit}°F is equal to {celsius:.2f}°C\")\n",
        "else:\n",
        "    print(\"Invalid choice\")\n"
      ],
      "metadata": {
        "id": "URo_FVBhjtbM",
        "colab": {
          "base_uri": "https://localhost:8080/"
        },
        "outputId": "cf2cb68c-3321-4dde-bbf8-05532667a153"
      },
      "execution_count": 4,
      "outputs": [
        {
          "output_type": "stream",
          "name": "stdout",
          "text": [
            "Temperature Conversion Program\n",
            "1. Celsius to Fahrenheit\n",
            "2. Fahrenheit to Celsius\n",
            "Enter your choice (1 or 2): 1\n",
            "Enter temperature in Celsius: 45\n",
            "45.0°C is equal to 113.00°F\n"
          ]
        }
      ]
    },
    {
      "cell_type": "code",
      "source": [],
      "metadata": {
        "id": "xRD5GitLFaVL"
      },
      "execution_count": null,
      "outputs": []
    }
  ]
}